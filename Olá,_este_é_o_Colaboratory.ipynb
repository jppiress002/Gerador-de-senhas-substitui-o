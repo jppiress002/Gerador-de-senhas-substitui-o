{
  "cells": [
    {
      "cell_type": "markdown",
      "metadata": {
        "id": "view-in-github",
        "colab_type": "text"
      },
      "source": [
        "<a href=\"https://colab.research.google.com/github/jppiress002/Gerador-de-senhas-substitui-o/blob/main/Ol%C3%A1%2C_este_%C3%A9_o_Colaboratory.ipynb\" target=\"_parent\"><img src=\"https://colab.research.google.com/assets/colab-badge.svg\" alt=\"Open In Colab\"/></a>"
      ]
    },
    {
      "cell_type": "code",
      "source": [
        "chave = input(\"Digite a base da sua senha:\")\n",
        "\n",
        "senha = \"\"\n",
        "for letra in chave:\n",
        "\n",
        "  if letra in \"Aa\": senha = senha + \"1\"\n",
        "  elif letra in \"Bb\": senha = senha + \"@\"\n",
        "  elif letra in \"Cc\": senha = senha + \"2\"\n",
        "  elif letra in \"Dd\": senha = senha + \"3\"\n",
        "  elif letra in \"Ee\": senha = senha + \"4\"\n",
        "  elif letra in \"Ff\": senha = senha + \"5\"\n",
        "  elif letra in \"Rr\": senha = senha + \"#\"\n",
        "  elif letra in \"Ss\": senha = senha + \"%\"\n",
        "  elif letra in \"Mm\": senha = senha + \"$\"\n",
        "  else: senha = senha + letra\n",
        "print(senha)\n"
      ],
      "metadata": {
        "id": "DITKjbxSQQ8W"
      },
      "execution_count": null,
      "outputs": []
    }
  ],
  "metadata": {
    "colab": {
      "name": "Olá, este é o Colaboratory",
      "provenance": [],
      "include_colab_link": true
    },
    "kernelspec": {
      "display_name": "Python 3",
      "name": "python3"
    }
  },
  "nbformat": 4,
  "nbformat_minor": 0
}